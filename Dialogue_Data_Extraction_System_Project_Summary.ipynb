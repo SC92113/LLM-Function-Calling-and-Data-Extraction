{
 "cells": [
  {
   "cell_type": "markdown",
   "metadata": {},
   "source": [
    "# Dialogue Data Extraction System"
   ]
  },
  {
   "cell_type": "markdown",
   "metadata": {},
   "source": [
    "## Goals\n",
    "\n",
    "- Extract key data from dialogue automatically between customers and customer representatives by function calling\n",
    "\n",
    "- Store extracted data back to database\n",
    "\n",
    "- Retrieve data from database using SQL by user queries in function calling\n"
   ]
  },
  {
   "cell_type": "markdown",
   "metadata": {},
   "source": [
    "## Required Data To Be Extracted\n",
    "\n",
    "- Agent name\n",
    "\n",
    "- Customer data\n",
    "\n",
    "    - Agent name\n",
    "\n",
    "    - Customer email\n",
    "\n",
    "    - Customer order\n",
    "\n",
    "    - Customer phone\n",
    "    \n",
    "    - Customer sentiment"
   ]
  },
  {
   "cell_type": "markdown",
   "metadata": {},
   "source": [
    "## Basic Process\n",
    "\n",
    "1. Extract required data\n",
    "\n",
    "2. Store into database by function calling\n",
    "\n",
    "3. Retrieve data from database by user queries, i.e. user queries requests LLMs to respond with SQL for data retrieval"
   ]
  },
  {
   "cell_type": "markdown",
   "metadata": {},
   "source": [
    "## Detailed Process\n",
    "\n",
    "1. Define required data (refer to Required Data To Be Extracted) by data class method\n",
    "\n",
    "    - Description of a function\n",
    "\n",
    "    - Function name\n",
    "    \n",
    "    - Parameter details\n",
    "\n",
    "2. Execute data class schema\n",
    "\n",
    "3. Define a database\n",
    "\n",
    "    - Storage location\n",
    "\n",
    "    - Table name\n",
    "\n",
    "    - Required columns\n",
    "    \n",
    "4. Initialize database\n",
    "\n",
    "5. Define a update knowledge tool\n",
    "\n",
    "    - Update new required data from every dialogue and every dataset\n",
    "\n",
    "    - Insert back to database\n",
    "\n",
    "6. Define a SQL execution tool to execute SQL to extract data from database\n",
    "\n",
    "7. Load a dataset\n",
    "\n",
    "    - Example: [SantiagoPG/customer_service_chatbot](https://huggingface.co/datasets/SantiagoPG/customer_service_chatbot)\n",
    "\n",
    "\n",
    "8. Extract a row of required data, store it in database, and retrieve it again by user queries in function calling"
   ]
  },
  {
   "cell_type": "markdown",
   "metadata": {},
   "source": [
    "## Remarks\n",
    "\n",
    "- LLMs do not call functions directly, they can return a string for human to call functions instead.\n",
    "\n",
    "- User query in function calling acts as a natural language prompt which is understandable for LLMs.\n",
    "\n",
    "- NexusRaven-V2 is used to proceed the function calling, which is from [Nexusflow](https://nexusflow.ai/)"
   ]
  },
  {
   "cell_type": "markdown",
   "metadata": {},
   "source": []
  }
 ],
 "metadata": {
  "language_info": {
   "name": "python"
  }
 },
 "nbformat": 4,
 "nbformat_minor": 2
}
